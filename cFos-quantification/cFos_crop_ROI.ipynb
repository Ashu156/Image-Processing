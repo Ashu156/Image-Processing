{
  "nbformat": 4,
  "nbformat_minor": 0,
  "metadata": {
    "colab": {
      "name": "cFos_crop_ROI.ipynb",
      "provenance": [],
      "collapsed_sections": [],
      "authorship_tag": "ABX9TyOzH0xh4BUgdKb65eD+pP61",
      "include_colab_link": true
    },
    "kernelspec": {
      "name": "python3",
      "display_name": "Python 3"
    },
    "language_info": {
      "name": "python"
    },
    "accelerator": "GPU",
    "gpuClass": "standard"
  },
  "cells": [
    {
      "cell_type": "markdown",
      "metadata": {
        "id": "view-in-github",
        "colab_type": "text"
      },
      "source": [
        "<a href=\"https://colab.research.google.com/github/Ashu156/Image-Processing/blob/master/cFos_crop_ROI.ipynb\" target=\"_parent\"><img src=\"https://colab.research.google.com/assets/colab-badge.svg\" alt=\"Open In Colab\"/></a>"
      ]
    },
    {
      "cell_type": "code",
      "source": [
        "import numpy as np\n",
        "import matplotlib.pyplot as plt\n",
        "import os\n",
        "import pandas as pd\n",
        "import cv2\n",
        "from google.colab.patches import cv2_imshow"
      ],
      "metadata": {
        "id": "W6aThRG1rnFV"
      },
      "execution_count": 1,
      "outputs": []
    },
    {
      "cell_type": "code",
      "metadata": {
        "id": "LNwYiX9RmiMX",
        "colab": {
          "base_uri": "https://localhost:8080/"
        },
        "outputId": "265122aa-fd4f-42ab-8b87-ee5d09a110ef"
      },
      "source": [
        "# Connect to drive\n",
        "try:\n",
        "  from google.colab import drive\n",
        "  drive.mount('/gdrive')\n",
        "except:\n",
        "  print('Google Drive is not available.')"
      ],
      "execution_count": 2,
      "outputs": [
        {
          "output_type": "stream",
          "name": "stdout",
          "text": [
            "Mounted at /gdrive\n"
          ]
        }
      ]
    },
    {
      "cell_type": "code",
      "source": [
        "csv_path = '/gdrive/MyDrive/deepflash2-paper/data/cFOS_in_HC/test/images/ROI_images_pre/csv_files/'\n",
        "input_img_path = '/gdrive/MyDrive/deepflash2-paper/data/cFOS_in_HC/test/images/ROI_images_pre/images/'\n",
        "output_img_path = '/gdrive/MyDrive/deepflash2-paper/data/cFOS_in_HC/test/images/ROI_images_post/'\n",
        "\n",
        "csv_files = os.listdir(csv_path)\n",
        "img_files = os.listdir(input_img_path)\n",
        "\n",
        "\n",
        "for i in range(len(img_files)):\n",
        "  img_full_path = os.path.join(input_img_path, img_files[i])\n",
        "  img = cv2.imread(img_full_path)\n",
        "  \n",
        "  csv_full_path = os.path.join(csv_path, csv_files[i])\n",
        "  border = pd.read_csv(csv_full_path)\n",
        "  contours = np.array(np.array(border))\n",
        "\n",
        "  mask = np.zeros(img.shape, dtype = np.uint8)\n",
        "  cv2.fillPoly(mask, pts=[contours], color=(255,255,255))\n",
        "\n",
        "  # apply the mask\n",
        "  masked_img = cv2.bitwise_and(img, mask)\n",
        "  cv2_imshow(masked_img)\n",
        "  cv2.imwrite(os.path.join(output_img_path, img_files[i]), masked_img)"
      ],
      "metadata": {
        "id": "Dq0FfqefEaOp"
      },
      "execution_count": null,
      "outputs": []
    }
  ]
}
